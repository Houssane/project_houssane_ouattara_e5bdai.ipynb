{
  "cells": [
    {
      "cell_type": "markdown",
      "metadata": {
        "id": "4AJ7hqS_PCO0"
      },
      "source": [
        "Student Name: OUATTARA Houssane Class: E5BDAI\n",
        "\n",
        "Note: My work has two parts of which the first part concerns explanations of Quantum Simon's Algorithm and the second part is implement the quantum algorithm using Qiskit and run it on a simulator and device."
      ]
    },
    {
      "cell_type": "code",
      "execution_count": 1,
      "metadata": {
        "id": "0aK2-s_lL8q-"
      },
      "outputs": [],
      "source": [
        "#Quantum Simon's Algorithm"
      ]
    },
    {
      "cell_type": "markdown",
      "metadata": {
        "id": "2xcnb-qqMC7n"
      },
      "source": [
        "Quantum Simon's Algorithm is a demonstration of the quantum computers' superiority over classical computers for solving specific problems. It addresses the problem of finding a hidden period within a Boolean function"
      ]
    },
    {
      "cell_type": "code",
      "execution_count": 2,
      "metadata": {
        "id": "BZ7mIAAWMK_Q"
      },
      "outputs": [],
      "source": [
        "#2-Introduction"
      ]
    },
    {
      "cell_type": "markdown",
      "metadata": {
        "id": "oARqAlA5MZV2"
      },
      "source": [
        "The Quantum Simon's Algorithm was developed to solve a problem related to Boolean functions, which are functions that take in bits (values 0 or 1) as input and also output a bit. While it might seem straightforward to find inputs that produce the same output (hidden period), doing so efficiently can be challenging and slow on classical computers."
      ]
    },
    {
      "cell_type": "code",
      "execution_count": 3,
      "metadata": {
        "id": "pdWUIoCWMo9Z"
      },
      "outputs": [],
      "source": [
        "#3. Problem Simon's Algorithm"
      ]
    },
    {
      "cell_type": "markdown",
      "metadata": {
        "id": "wjK4HZBzNKjx"
      },
      "source": [
        "Imagine we have a secret function that takes sequences of bits as input and produces the same output for certain input sequences. The challenge is to find the bit sequence responsible for this hidden period."
      ]
    },
    {
      "cell_type": "markdown",
      "metadata": {
        "id": "5o8s7GpcYjDw"
      },
      "source": [
        "You are given an unknown black-box function, denoted as f: {0, 1}^n -> {0, 1}^n, which exhibits the following characteristics:\n",
        "One-to-One: The function f is a one-to-one function, meaning that it maps each unique input to a unique output. In other words, for every possible combination of inputs, there is only one corresponding combination of outputs.\n",
        "\n",
        "Example of \"one-to-one\" function (for n = 4):\n",
        "\n",
        "Input: 0000 -> Output: 1100\n",
        "Input: 0001 -> Output: 1010\n",
        "Input: 0010 -> Output: 0110\n",
        "Input: 0011 -> Output: 0011\n",
        "...\n",
        "\n",
        "Two-to-One: The function f is a two-to-one function, meaning that two distinct inputs can be mapped to the same unique output. In other words, for certain input combinations, there is one corresponding output combination, but for others, there are two.\n",
        "\n",
        "Example of \"two-to-one\" function (for n = 4):\n",
        "\n",
        "Input: 0000 -> Output: 1100\n",
        "Input: 0001 -> Output: 1010\n",
        "Input: 0010 -> Output: 1100\n",
        "Input: 0011 -> Output: 0110"
      ]
    },
    {
      "cell_type": "markdown",
      "metadata": {
        "id": "CFk_dr9hd8rp"
      },
      "source": [
        "Additionally, you have two specific behaviors of the function f:\n",
        "\n",
        "    When you provide an n-bit input following the \"three-to-three\" (3,3) pattern, it means that the corresponding output will be unique. In other words, for three different inputs sharing the same pattern, the corresponding output is unique.\n",
        "\n",
        "    When you provide an n-bit input following the \"four-for-three\" (4,3) pattern, it means that among four distinct inputs, three of them share the same corresponding output.\n",
        "\n",
        "The objective of Simon's algorithm is to determine the hidden pattern or secret in the function f. More specifically, the problem is to find a non-zero n-bit vector \"s\" such that, for any input \"x\", if \"f(x) = f(x ⊕ s)\", where \"⊕\" represents the bitwise XOR operation, then \"s\" is the hidden pattern we aim to discover.\n",
        "\n",
        "The quantum Simon's algorithm is designed to solve this problem using the properties of quantum superposition and entanglement, allowing it to determine the hidden pattern faster than a classical algorithm."
      ]
    },
    {
      "cell_type": "code",
      "execution_count": 4,
      "metadata": {
        "id": "2Jas_QipfP2j"
      },
      "outputs": [],
      "source": [
        "#Classical Solution simon's algorithm"
      ]
    },
    {
      "cell_type": "markdown",
      "metadata": {
        "id": "5J6NpYvafVAs"
      },
      "source": [
        "In Simon's problem, you are given a black-box function ff that satisfies certain properties: it's either one-to-one (injective) or two-to-one (each output is mapped from exactly two different inputs). The goal is to find a hidden pattern ss that characterizes the function's behavior. Specifically, if f(x)=f(y)f(x)=f(y), where x≠yx=y, then the hidden pattern ss satisfies s⋅x=s⋅ys⋅x=s⋅y, where ⋅⋅ represents the bitwise dot product."
      ]
    },
    {
      "cell_type": "markdown",
      "metadata": {
        "id": "I866jCgZf6ZC"
      },
      "source": [
        "Here's a simplified description of the classical solution:\n",
        "\n",
        "    Generate Equations: Choose random inputs xx and yy and query the black-box function ff to get their corresponding outputs f(x)f(x) and f(y)f(y).\n",
        "\n",
        "    Check Equations: If f(x)=f(y)f(x)=f(y), calculate the bitwise dot product of xx and yy (denoted as s⋅x=s⋅ys⋅x=s⋅y). Collect several such equations by repeating steps 1 and 2.\n",
        "\n",
        "    Solve Equations: Use linear algebra techniques (such as Gaussian elimination) to solve the system of equations s⋅x=s⋅ys⋅x=s⋅y for ss.\n",
        "\n",
        "    Verify Solution: Check if the determined ss is consistent with the black-box function's behavior. If the function is one-to-one, ss should be a non-zero vector. If the function is two-to-one, ss should be a non-zero vector with half of its bits being 0.\n",
        "\n",
        "The classical solution involves gathering enough equations to solve for the pattern ss, and this could require querying the black-box function multiple times. However, unlike the quantum solution, the classical approach is not able to provide a quadratic speedup over classical brute-force methods in solving Simon's problem."
      ]
    },
    {
      "cell_type": "code",
      "execution_count": 5,
      "metadata": {
        "colab": {
          "base_uri": "https://localhost:8080/"
        },
        "id": "IEnO3nTuU47F",
        "outputId": "f35315b1-4a0e-41ad-e310-4b56c21b5d0f"
      },
      "outputs": [
        {
          "output_type": "stream",
          "name": "stdout",
          "text": [
            "Collecting git+https://github.com/qiskit-community/qiskit-textbook.git#subdirectory=qiskit-textbook-src\n",
            "  Cloning https://github.com/qiskit-community/qiskit-textbook.git to /tmp/pip-req-build-z_7hwcng\n",
            "  Running command git clone --filter=blob:none --quiet https://github.com/qiskit-community/qiskit-textbook.git /tmp/pip-req-build-z_7hwcng\n",
            "  Resolved https://github.com/qiskit-community/qiskit-textbook.git to commit 0ae905083ec3872d7ddc6bb4001d5468f476d93f\n",
            "  Preparing metadata (setup.py) ... \u001b[?25l\u001b[?25hdone\n",
            "Requirement already satisfied: qiskit in /usr/local/lib/python3.10/dist-packages (from qiskit-textbook==0.1.0) (0.44.1)\n",
            "Requirement already satisfied: ipython in /usr/local/lib/python3.10/dist-packages (from qiskit-textbook==0.1.0) (7.34.0)\n",
            "Requirement already satisfied: ipywidgets in /usr/local/lib/python3.10/dist-packages (from qiskit-textbook==0.1.0) (7.7.1)\n",
            "Requirement already satisfied: numpy in /usr/local/lib/python3.10/dist-packages (from qiskit-textbook==0.1.0) (1.23.5)\n",
            "Requirement already satisfied: matplotlib in /usr/local/lib/python3.10/dist-packages (from qiskit-textbook==0.1.0) (3.7.1)\n",
            "Requirement already satisfied: numexpr in /usr/local/lib/python3.10/dist-packages (from qiskit-textbook==0.1.0) (2.8.5)\n",
            "Requirement already satisfied: setuptools>=18.5 in /usr/local/lib/python3.10/dist-packages (from ipython->qiskit-textbook==0.1.0) (67.7.2)\n",
            "Requirement already satisfied: jedi>=0.16 in /usr/local/lib/python3.10/dist-packages (from ipython->qiskit-textbook==0.1.0) (0.19.0)\n",
            "Requirement already satisfied: decorator in /usr/local/lib/python3.10/dist-packages (from ipython->qiskit-textbook==0.1.0) (4.4.2)\n",
            "Requirement already satisfied: pickleshare in /usr/local/lib/python3.10/dist-packages (from ipython->qiskit-textbook==0.1.0) (0.7.5)\n",
            "Requirement already satisfied: traitlets>=4.2 in /usr/local/lib/python3.10/dist-packages (from ipython->qiskit-textbook==0.1.0) (5.7.1)\n",
            "Requirement already satisfied: prompt-toolkit!=3.0.0,!=3.0.1,<3.1.0,>=2.0.0 in /usr/local/lib/python3.10/dist-packages (from ipython->qiskit-textbook==0.1.0) (3.0.39)\n",
            "Requirement already satisfied: pygments in /usr/local/lib/python3.10/dist-packages (from ipython->qiskit-textbook==0.1.0) (2.16.1)\n",
            "Requirement already satisfied: backcall in /usr/local/lib/python3.10/dist-packages (from ipython->qiskit-textbook==0.1.0) (0.2.0)\n",
            "Requirement already satisfied: matplotlib-inline in /usr/local/lib/python3.10/dist-packages (from ipython->qiskit-textbook==0.1.0) (0.1.6)\n",
            "Requirement already satisfied: pexpect>4.3 in /usr/local/lib/python3.10/dist-packages (from ipython->qiskit-textbook==0.1.0) (4.8.0)\n",
            "Requirement already satisfied: ipykernel>=4.5.1 in /usr/local/lib/python3.10/dist-packages (from ipywidgets->qiskit-textbook==0.1.0) (5.5.6)\n",
            "Requirement already satisfied: ipython-genutils~=0.2.0 in /usr/local/lib/python3.10/dist-packages (from ipywidgets->qiskit-textbook==0.1.0) (0.2.0)\n",
            "Requirement already satisfied: widgetsnbextension~=3.6.0 in /usr/local/lib/python3.10/dist-packages (from ipywidgets->qiskit-textbook==0.1.0) (3.6.5)\n",
            "Requirement already satisfied: jupyterlab-widgets>=1.0.0 in /usr/local/lib/python3.10/dist-packages (from ipywidgets->qiskit-textbook==0.1.0) (3.0.8)\n",
            "Requirement already satisfied: contourpy>=1.0.1 in /usr/local/lib/python3.10/dist-packages (from matplotlib->qiskit-textbook==0.1.0) (1.1.0)\n",
            "Requirement already satisfied: cycler>=0.10 in /usr/local/lib/python3.10/dist-packages (from matplotlib->qiskit-textbook==0.1.0) (0.11.0)\n",
            "Requirement already satisfied: fonttools>=4.22.0 in /usr/local/lib/python3.10/dist-packages (from matplotlib->qiskit-textbook==0.1.0) (4.42.1)\n",
            "Requirement already satisfied: kiwisolver>=1.0.1 in /usr/local/lib/python3.10/dist-packages (from matplotlib->qiskit-textbook==0.1.0) (1.4.4)\n",
            "Requirement already satisfied: packaging>=20.0 in /usr/local/lib/python3.10/dist-packages (from matplotlib->qiskit-textbook==0.1.0) (23.1)\n",
            "Requirement already satisfied: pillow>=6.2.0 in /usr/local/lib/python3.10/dist-packages (from matplotlib->qiskit-textbook==0.1.0) (9.4.0)\n",
            "Requirement already satisfied: pyparsing>=2.3.1 in /usr/local/lib/python3.10/dist-packages (from matplotlib->qiskit-textbook==0.1.0) (3.1.1)\n",
            "Requirement already satisfied: python-dateutil>=2.7 in /usr/local/lib/python3.10/dist-packages (from matplotlib->qiskit-textbook==0.1.0) (2.8.2)\n",
            "Requirement already satisfied: qiskit-terra==0.25.1 in /usr/local/lib/python3.10/dist-packages (from qiskit->qiskit-textbook==0.1.0) (0.25.1)\n",
            "Requirement already satisfied: rustworkx>=0.13.0 in /usr/local/lib/python3.10/dist-packages (from qiskit-terra==0.25.1->qiskit->qiskit-textbook==0.1.0) (0.13.1)\n",
            "Requirement already satisfied: ply>=3.10 in /usr/local/lib/python3.10/dist-packages (from qiskit-terra==0.25.1->qiskit->qiskit-textbook==0.1.0) (3.11)\n",
            "Requirement already satisfied: psutil>=5 in /usr/local/lib/python3.10/dist-packages (from qiskit-terra==0.25.1->qiskit->qiskit-textbook==0.1.0) (5.9.5)\n",
            "Requirement already satisfied: scipy>=1.5 in /usr/local/lib/python3.10/dist-packages (from qiskit-terra==0.25.1->qiskit->qiskit-textbook==0.1.0) (1.10.1)\n",
            "Requirement already satisfied: sympy>=1.3 in /usr/local/lib/python3.10/dist-packages (from qiskit-terra==0.25.1->qiskit->qiskit-textbook==0.1.0) (1.12)\n",
            "Requirement already satisfied: dill>=0.3 in /usr/local/lib/python3.10/dist-packages (from qiskit-terra==0.25.1->qiskit->qiskit-textbook==0.1.0) (0.3.7)\n",
            "Requirement already satisfied: stevedore>=3.0.0 in /usr/local/lib/python3.10/dist-packages (from qiskit-terra==0.25.1->qiskit->qiskit-textbook==0.1.0) (5.1.0)\n",
            "Requirement already satisfied: symengine<0.10,>=0.9 in /usr/local/lib/python3.10/dist-packages (from qiskit-terra==0.25.1->qiskit->qiskit-textbook==0.1.0) (0.9.2)\n",
            "Requirement already satisfied: typing-extensions in /usr/local/lib/python3.10/dist-packages (from qiskit-terra==0.25.1->qiskit->qiskit-textbook==0.1.0) (4.7.1)\n",
            "Requirement already satisfied: jupyter-client in /usr/local/lib/python3.10/dist-packages (from ipykernel>=4.5.1->ipywidgets->qiskit-textbook==0.1.0) (6.1.12)\n",
            "Requirement already satisfied: tornado>=4.2 in /usr/local/lib/python3.10/dist-packages (from ipykernel>=4.5.1->ipywidgets->qiskit-textbook==0.1.0) (6.3.2)\n",
            "Requirement already satisfied: parso<0.9.0,>=0.8.3 in /usr/local/lib/python3.10/dist-packages (from jedi>=0.16->ipython->qiskit-textbook==0.1.0) (0.8.3)\n",
            "Requirement already satisfied: ptyprocess>=0.5 in /usr/local/lib/python3.10/dist-packages (from pexpect>4.3->ipython->qiskit-textbook==0.1.0) (0.7.0)\n",
            "Requirement already satisfied: wcwidth in /usr/local/lib/python3.10/dist-packages (from prompt-toolkit!=3.0.0,!=3.0.1,<3.1.0,>=2.0.0->ipython->qiskit-textbook==0.1.0) (0.2.6)\n",
            "Requirement already satisfied: six>=1.5 in /usr/local/lib/python3.10/dist-packages (from python-dateutil>=2.7->matplotlib->qiskit-textbook==0.1.0) (1.16.0)\n",
            "Requirement already satisfied: notebook>=4.4.1 in /usr/local/lib/python3.10/dist-packages (from widgetsnbextension~=3.6.0->ipywidgets->qiskit-textbook==0.1.0) (6.5.5)\n",
            "Requirement already satisfied: jinja2 in /usr/local/lib/python3.10/dist-packages (from notebook>=4.4.1->widgetsnbextension~=3.6.0->ipywidgets->qiskit-textbook==0.1.0) (3.1.2)\n",
            "Requirement already satisfied: pyzmq<25,>=17 in /usr/local/lib/python3.10/dist-packages (from notebook>=4.4.1->widgetsnbextension~=3.6.0->ipywidgets->qiskit-textbook==0.1.0) (23.2.1)\n",
            "Requirement already satisfied: argon2-cffi in /usr/local/lib/python3.10/dist-packages (from notebook>=4.4.1->widgetsnbextension~=3.6.0->ipywidgets->qiskit-textbook==0.1.0) (23.1.0)\n",
            "Requirement already satisfied: jupyter-core>=4.6.1 in /usr/local/lib/python3.10/dist-packages (from notebook>=4.4.1->widgetsnbextension~=3.6.0->ipywidgets->qiskit-textbook==0.1.0) (5.3.1)\n",
            "Requirement already satisfied: nbformat in /usr/local/lib/python3.10/dist-packages (from notebook>=4.4.1->widgetsnbextension~=3.6.0->ipywidgets->qiskit-textbook==0.1.0) (5.9.2)\n",
            "Requirement already satisfied: nbconvert>=5 in /usr/local/lib/python3.10/dist-packages (from notebook>=4.4.1->widgetsnbextension~=3.6.0->ipywidgets->qiskit-textbook==0.1.0) (6.5.4)\n",
            "Requirement already satisfied: nest-asyncio>=1.5 in /usr/local/lib/python3.10/dist-packages (from notebook>=4.4.1->widgetsnbextension~=3.6.0->ipywidgets->qiskit-textbook==0.1.0) (1.5.7)\n",
            "Requirement already satisfied: Send2Trash>=1.8.0 in /usr/local/lib/python3.10/dist-packages (from notebook>=4.4.1->widgetsnbextension~=3.6.0->ipywidgets->qiskit-textbook==0.1.0) (1.8.2)\n",
            "Requirement already satisfied: terminado>=0.8.3 in /usr/local/lib/python3.10/dist-packages (from notebook>=4.4.1->widgetsnbextension~=3.6.0->ipywidgets->qiskit-textbook==0.1.0) (0.17.1)\n",
            "Requirement already satisfied: prometheus-client in /usr/local/lib/python3.10/dist-packages (from notebook>=4.4.1->widgetsnbextension~=3.6.0->ipywidgets->qiskit-textbook==0.1.0) (0.17.1)\n",
            "Requirement already satisfied: nbclassic>=0.4.7 in /usr/local/lib/python3.10/dist-packages (from notebook>=4.4.1->widgetsnbextension~=3.6.0->ipywidgets->qiskit-textbook==0.1.0) (1.0.0)\n",
            "Requirement already satisfied: pbr!=2.1.0,>=2.0.0 in /usr/local/lib/python3.10/dist-packages (from stevedore>=3.0.0->qiskit-terra==0.25.1->qiskit->qiskit-textbook==0.1.0) (5.11.1)\n",
            "Requirement already satisfied: mpmath>=0.19 in /usr/local/lib/python3.10/dist-packages (from sympy>=1.3->qiskit-terra==0.25.1->qiskit->qiskit-textbook==0.1.0) (1.3.0)\n",
            "Requirement already satisfied: platformdirs>=2.5 in /usr/local/lib/python3.10/dist-packages (from jupyter-core>=4.6.1->notebook>=4.4.1->widgetsnbextension~=3.6.0->ipywidgets->qiskit-textbook==0.1.0) (3.10.0)\n",
            "Requirement already satisfied: jupyter-server>=1.8 in /usr/local/lib/python3.10/dist-packages (from nbclassic>=0.4.7->notebook>=4.4.1->widgetsnbextension~=3.6.0->ipywidgets->qiskit-textbook==0.1.0) (1.24.0)\n",
            "Requirement already satisfied: notebook-shim>=0.2.3 in /usr/local/lib/python3.10/dist-packages (from nbclassic>=0.4.7->notebook>=4.4.1->widgetsnbextension~=3.6.0->ipywidgets->qiskit-textbook==0.1.0) (0.2.3)\n",
            "Requirement already satisfied: lxml in /usr/local/lib/python3.10/dist-packages (from nbconvert>=5->notebook>=4.4.1->widgetsnbextension~=3.6.0->ipywidgets->qiskit-textbook==0.1.0) (4.9.3)\n",
            "Requirement already satisfied: beautifulsoup4 in /usr/local/lib/python3.10/dist-packages (from nbconvert>=5->notebook>=4.4.1->widgetsnbextension~=3.6.0->ipywidgets->qiskit-textbook==0.1.0) (4.11.2)\n",
            "Requirement already satisfied: bleach in /usr/local/lib/python3.10/dist-packages (from nbconvert>=5->notebook>=4.4.1->widgetsnbextension~=3.6.0->ipywidgets->qiskit-textbook==0.1.0) (6.0.0)\n",
            "Requirement already satisfied: defusedxml in /usr/local/lib/python3.10/dist-packages (from nbconvert>=5->notebook>=4.4.1->widgetsnbextension~=3.6.0->ipywidgets->qiskit-textbook==0.1.0) (0.7.1)\n",
            "Requirement already satisfied: entrypoints>=0.2.2 in /usr/local/lib/python3.10/dist-packages (from nbconvert>=5->notebook>=4.4.1->widgetsnbextension~=3.6.0->ipywidgets->qiskit-textbook==0.1.0) (0.4)\n",
            "Requirement already satisfied: jupyterlab-pygments in /usr/local/lib/python3.10/dist-packages (from nbconvert>=5->notebook>=4.4.1->widgetsnbextension~=3.6.0->ipywidgets->qiskit-textbook==0.1.0) (0.2.2)\n",
            "Requirement already satisfied: MarkupSafe>=2.0 in /usr/local/lib/python3.10/dist-packages (from nbconvert>=5->notebook>=4.4.1->widgetsnbextension~=3.6.0->ipywidgets->qiskit-textbook==0.1.0) (2.1.3)\n",
            "Requirement already satisfied: mistune<2,>=0.8.1 in /usr/local/lib/python3.10/dist-packages (from nbconvert>=5->notebook>=4.4.1->widgetsnbextension~=3.6.0->ipywidgets->qiskit-textbook==0.1.0) (0.8.4)\n",
            "Requirement already satisfied: nbclient>=0.5.0 in /usr/local/lib/python3.10/dist-packages (from nbconvert>=5->notebook>=4.4.1->widgetsnbextension~=3.6.0->ipywidgets->qiskit-textbook==0.1.0) (0.8.0)\n",
            "Requirement already satisfied: pandocfilters>=1.4.1 in /usr/local/lib/python3.10/dist-packages (from nbconvert>=5->notebook>=4.4.1->widgetsnbextension~=3.6.0->ipywidgets->qiskit-textbook==0.1.0) (1.5.0)\n",
            "Requirement already satisfied: tinycss2 in /usr/local/lib/python3.10/dist-packages (from nbconvert>=5->notebook>=4.4.1->widgetsnbextension~=3.6.0->ipywidgets->qiskit-textbook==0.1.0) (1.2.1)\n",
            "Requirement already satisfied: fastjsonschema in /usr/local/lib/python3.10/dist-packages (from nbformat->notebook>=4.4.1->widgetsnbextension~=3.6.0->ipywidgets->qiskit-textbook==0.1.0) (2.18.0)\n",
            "Requirement already satisfied: jsonschema>=2.6 in /usr/local/lib/python3.10/dist-packages (from nbformat->notebook>=4.4.1->widgetsnbextension~=3.6.0->ipywidgets->qiskit-textbook==0.1.0) (4.19.0)\n",
            "Requirement already satisfied: argon2-cffi-bindings in /usr/local/lib/python3.10/dist-packages (from argon2-cffi->notebook>=4.4.1->widgetsnbextension~=3.6.0->ipywidgets->qiskit-textbook==0.1.0) (21.2.0)\n",
            "Requirement already satisfied: attrs>=22.2.0 in /usr/local/lib/python3.10/dist-packages (from jsonschema>=2.6->nbformat->notebook>=4.4.1->widgetsnbextension~=3.6.0->ipywidgets->qiskit-textbook==0.1.0) (23.1.0)\n",
            "Requirement already satisfied: jsonschema-specifications>=2023.03.6 in /usr/local/lib/python3.10/dist-packages (from jsonschema>=2.6->nbformat->notebook>=4.4.1->widgetsnbextension~=3.6.0->ipywidgets->qiskit-textbook==0.1.0) (2023.7.1)\n",
            "Requirement already satisfied: referencing>=0.28.4 in /usr/local/lib/python3.10/dist-packages (from jsonschema>=2.6->nbformat->notebook>=4.4.1->widgetsnbextension~=3.6.0->ipywidgets->qiskit-textbook==0.1.0) (0.30.2)\n",
            "Requirement already satisfied: rpds-py>=0.7.1 in /usr/local/lib/python3.10/dist-packages (from jsonschema>=2.6->nbformat->notebook>=4.4.1->widgetsnbextension~=3.6.0->ipywidgets->qiskit-textbook==0.1.0) (0.9.2)\n",
            "Requirement already satisfied: anyio<4,>=3.1.0 in /usr/local/lib/python3.10/dist-packages (from jupyter-server>=1.8->nbclassic>=0.4.7->notebook>=4.4.1->widgetsnbextension~=3.6.0->ipywidgets->qiskit-textbook==0.1.0) (3.7.1)\n",
            "Requirement already satisfied: websocket-client in /usr/local/lib/python3.10/dist-packages (from jupyter-server>=1.8->nbclassic>=0.4.7->notebook>=4.4.1->widgetsnbextension~=3.6.0->ipywidgets->qiskit-textbook==0.1.0) (1.6.2)\n",
            "Requirement already satisfied: cffi>=1.0.1 in /usr/local/lib/python3.10/dist-packages (from argon2-cffi-bindings->argon2-cffi->notebook>=4.4.1->widgetsnbextension~=3.6.0->ipywidgets->qiskit-textbook==0.1.0) (1.15.1)\n",
            "Requirement already satisfied: soupsieve>1.2 in /usr/local/lib/python3.10/dist-packages (from beautifulsoup4->nbconvert>=5->notebook>=4.4.1->widgetsnbextension~=3.6.0->ipywidgets->qiskit-textbook==0.1.0) (2.4.1)\n",
            "Requirement already satisfied: webencodings in /usr/local/lib/python3.10/dist-packages (from bleach->nbconvert>=5->notebook>=4.4.1->widgetsnbextension~=3.6.0->ipywidgets->qiskit-textbook==0.1.0) (0.5.1)\n",
            "Requirement already satisfied: idna>=2.8 in /usr/local/lib/python3.10/dist-packages (from anyio<4,>=3.1.0->jupyter-server>=1.8->nbclassic>=0.4.7->notebook>=4.4.1->widgetsnbextension~=3.6.0->ipywidgets->qiskit-textbook==0.1.0) (3.4)\n",
            "Requirement already satisfied: sniffio>=1.1 in /usr/local/lib/python3.10/dist-packages (from anyio<4,>=3.1.0->jupyter-server>=1.8->nbclassic>=0.4.7->notebook>=4.4.1->widgetsnbextension~=3.6.0->ipywidgets->qiskit-textbook==0.1.0) (1.3.0)\n",
            "Requirement already satisfied: exceptiongroup in /usr/local/lib/python3.10/dist-packages (from anyio<4,>=3.1.0->jupyter-server>=1.8->nbclassic>=0.4.7->notebook>=4.4.1->widgetsnbextension~=3.6.0->ipywidgets->qiskit-textbook==0.1.0) (1.1.3)\n",
            "Requirement already satisfied: pycparser in /usr/local/lib/python3.10/dist-packages (from cffi>=1.0.1->argon2-cffi-bindings->argon2-cffi->notebook>=4.4.1->widgetsnbextension~=3.6.0->ipywidgets->qiskit-textbook==0.1.0) (2.21)\n"
          ]
        }
      ],
      "source": [
        "#Install Required Libraries\n",
        "!pip install git+https://github.com/qiskit-community/qiskit-textbook.git#subdirectory=qiskit-textbook-src\n",
        "\n"
      ]
    },
    {
      "cell_type": "code",
      "execution_count": 6,
      "metadata": {
        "colab": {
          "base_uri": "https://localhost:8080/"
        },
        "id": "rEvw42upeK6T",
        "outputId": "b80a634d-dc70-4a62-efcf-ea54751f55d6"
      },
      "outputs": [
        {
          "output_type": "stream",
          "name": "stdout",
          "text": [
            "Requirement already satisfied: qiskit-aer in /usr/local/lib/python3.10/dist-packages (0.12.2)\n",
            "Requirement already satisfied: qiskit-terra>=0.21.0 in /usr/local/lib/python3.10/dist-packages (from qiskit-aer) (0.25.1)\n",
            "Requirement already satisfied: numpy>=1.16.3 in /usr/local/lib/python3.10/dist-packages (from qiskit-aer) (1.23.5)\n",
            "Requirement already satisfied: scipy>=1.0 in /usr/local/lib/python3.10/dist-packages (from qiskit-aer) (1.10.1)\n",
            "Requirement already satisfied: rustworkx>=0.13.0 in /usr/local/lib/python3.10/dist-packages (from qiskit-terra>=0.21.0->qiskit-aer) (0.13.1)\n",
            "Requirement already satisfied: ply>=3.10 in /usr/local/lib/python3.10/dist-packages (from qiskit-terra>=0.21.0->qiskit-aer) (3.11)\n",
            "Requirement already satisfied: psutil>=5 in /usr/local/lib/python3.10/dist-packages (from qiskit-terra>=0.21.0->qiskit-aer) (5.9.5)\n",
            "Requirement already satisfied: sympy>=1.3 in /usr/local/lib/python3.10/dist-packages (from qiskit-terra>=0.21.0->qiskit-aer) (1.12)\n",
            "Requirement already satisfied: dill>=0.3 in /usr/local/lib/python3.10/dist-packages (from qiskit-terra>=0.21.0->qiskit-aer) (0.3.7)\n",
            "Requirement already satisfied: python-dateutil>=2.8.0 in /usr/local/lib/python3.10/dist-packages (from qiskit-terra>=0.21.0->qiskit-aer) (2.8.2)\n",
            "Requirement already satisfied: stevedore>=3.0.0 in /usr/local/lib/python3.10/dist-packages (from qiskit-terra>=0.21.0->qiskit-aer) (5.1.0)\n",
            "Requirement already satisfied: symengine<0.10,>=0.9 in /usr/local/lib/python3.10/dist-packages (from qiskit-terra>=0.21.0->qiskit-aer) (0.9.2)\n",
            "Requirement already satisfied: typing-extensions in /usr/local/lib/python3.10/dist-packages (from qiskit-terra>=0.21.0->qiskit-aer) (4.7.1)\n",
            "Requirement already satisfied: six>=1.5 in /usr/local/lib/python3.10/dist-packages (from python-dateutil>=2.8.0->qiskit-terra>=0.21.0->qiskit-aer) (1.16.0)\n",
            "Requirement already satisfied: pbr!=2.1.0,>=2.0.0 in /usr/local/lib/python3.10/dist-packages (from stevedore>=3.0.0->qiskit-terra>=0.21.0->qiskit-aer) (5.11.1)\n",
            "Requirement already satisfied: mpmath>=0.19 in /usr/local/lib/python3.10/dist-packages (from sympy>=1.3->qiskit-terra>=0.21.0->qiskit-aer) (1.3.0)\n"
          ]
        }
      ],
      "source": [
        "!pip install qiskit-aer   #Install Required Libraries qiskit-aer"
      ]
    },
    {
      "cell_type": "code",
      "execution_count": 7,
      "metadata": {
        "colab": {
          "base_uri": "https://localhost:8080/"
        },
        "id": "m1F4oKW0TTNW",
        "outputId": "3226e26f-4ecb-4940-e168-254ccfc54bf8"
      },
      "outputs": [
        {
          "output_type": "stream",
          "name": "stdout",
          "text": [
            "Requirement already satisfied: qiskit in /usr/local/lib/python3.10/dist-packages (0.44.1)\n",
            "Requirement already satisfied: qiskit-terra==0.25.1 in /usr/local/lib/python3.10/dist-packages (from qiskit) (0.25.1)\n",
            "Requirement already satisfied: rustworkx>=0.13.0 in /usr/local/lib/python3.10/dist-packages (from qiskit-terra==0.25.1->qiskit) (0.13.1)\n",
            "Requirement already satisfied: numpy>=1.17 in /usr/local/lib/python3.10/dist-packages (from qiskit-terra==0.25.1->qiskit) (1.23.5)\n",
            "Requirement already satisfied: ply>=3.10 in /usr/local/lib/python3.10/dist-packages (from qiskit-terra==0.25.1->qiskit) (3.11)\n",
            "Requirement already satisfied: psutil>=5 in /usr/local/lib/python3.10/dist-packages (from qiskit-terra==0.25.1->qiskit) (5.9.5)\n",
            "Requirement already satisfied: scipy>=1.5 in /usr/local/lib/python3.10/dist-packages (from qiskit-terra==0.25.1->qiskit) (1.10.1)\n",
            "Requirement already satisfied: sympy>=1.3 in /usr/local/lib/python3.10/dist-packages (from qiskit-terra==0.25.1->qiskit) (1.12)\n",
            "Requirement already satisfied: dill>=0.3 in /usr/local/lib/python3.10/dist-packages (from qiskit-terra==0.25.1->qiskit) (0.3.7)\n",
            "Requirement already satisfied: python-dateutil>=2.8.0 in /usr/local/lib/python3.10/dist-packages (from qiskit-terra==0.25.1->qiskit) (2.8.2)\n",
            "Requirement already satisfied: stevedore>=3.0.0 in /usr/local/lib/python3.10/dist-packages (from qiskit-terra==0.25.1->qiskit) (5.1.0)\n",
            "Requirement already satisfied: symengine<0.10,>=0.9 in /usr/local/lib/python3.10/dist-packages (from qiskit-terra==0.25.1->qiskit) (0.9.2)\n",
            "Requirement already satisfied: typing-extensions in /usr/local/lib/python3.10/dist-packages (from qiskit-terra==0.25.1->qiskit) (4.7.1)\n",
            "Requirement already satisfied: six>=1.5 in /usr/local/lib/python3.10/dist-packages (from python-dateutil>=2.8.0->qiskit-terra==0.25.1->qiskit) (1.16.0)\n",
            "Requirement already satisfied: pbr!=2.1.0,>=2.0.0 in /usr/local/lib/python3.10/dist-packages (from stevedore>=3.0.0->qiskit-terra==0.25.1->qiskit) (5.11.1)\n",
            "Requirement already satisfied: mpmath>=0.19 in /usr/local/lib/python3.10/dist-packages (from sympy>=1.3->qiskit-terra==0.25.1->qiskit) (1.3.0)\n"
          ]
        }
      ],
      "source": [
        "!pip install qiskit     #Qiskit is installed within the Colab environment"
      ]
    },
    {
      "cell_type": "code",
      "execution_count": 8,
      "metadata": {
        "id": "uZFwtaneT3fH"
      },
      "outputs": [],
      "source": [
        "# Import necessary modules from Qiskit\n",
        "from qiskit import QuantumCircuit, Aer, transpile, assemble\n",
        "\n",
        "from qiskit.visualization import circuit_drawer\n",
        "from qiskit import IBMQ\n",
        "import numpy as np\n",
        "\n"
      ]
    },
    {
      "cell_type": "markdown",
      "metadata": {
        "id": "BgI8Tk7wu3-w"
      },
      "source": [
        "the provided code snippet imports essential classes, functions, and libraries from Qiskit and NumPy. These imports are necessary for building and visualizing quantum circuits, simulating quantum behavior, interacting with quantum devices, and performing numerical operations."
      ]
    },
    {
      "cell_type": "code",
      "execution_count": 9,
      "metadata": {
        "id": "ffXCTOtBVlSO"
      },
      "outputs": [],
      "source": [
        "#Import plot_histogram from Qiskit:\n",
        "from qiskit.visualization import plot_histogram\n",
        "\n",
        "from qiskit_textbook.tools import simon_oracle\n"
      ]
    },
    {
      "cell_type": "markdown",
      "metadata": {
        "id": "8e8bBVTVjY7c"
      },
      "source": [
        "In summary, the provided code snippet imports the plot_histogram function from Qiskit's visualization module, which allows you to plot histograms of measurement outcomes. Additionally, it imports the simon_oracle function from the Qiskit Textbook tools, which suggests that you're working with tools provided by the Qiskit Textbook for implementing the Simon's algorithm and its related components."
      ]
    },
    {
      "cell_type": "code",
      "execution_count": 10,
      "metadata": {
        "id": "9kfEaU9kgwH8"
      },
      "outputs": [],
      "source": [
        "#Step 1: Qubit Preparation"
      ]
    },
    {
      "cell_type": "markdown",
      "metadata": {
        "id": "PZgdTf52gnmi"
      },
      "source": [
        "\n",
        "\n",
        "    We start by preparing two sets of qubits: input qubits and output qubits. Let's say we have two input qubits."
      ]
    },
    {
      "cell_type": "code",
      "execution_count": 11,
      "metadata": {
        "id": "hIKLO-Oui87T"
      },
      "outputs": [],
      "source": [
        "c = '35422236'\n",
        "m = len(c)\n",
        "simon_circuit = QuantumCircuit(m*2, m)"
      ]
    },
    {
      "cell_type": "markdown",
      "metadata": {
        "id": "qWvlqTAvvp6H"
      },
      "source": [
        "This code snippet initializes the variables c and m with a secret string and its length, respectively. It then creates a quantum circuit simon_circuit with twice the number of qubits as the length of the secret string and the same number of classical bits. This circuit will be used to implement Simon's algorithm with the provided secret string."
      ]
    },
    {
      "cell_type": "code",
      "execution_count": 12,
      "metadata": {
        "colab": {
          "base_uri": "https://localhost:8080/"
        },
        "id": "05INZahNj8z0",
        "outputId": "cd2b6db1-7670-42f1-a8a9-73c75b6b0faa"
      },
      "outputs": [
        {
          "output_type": "execute_result",
          "data": {
            "text/plain": [
              "<qiskit.circuit.instructionset.InstructionSet at 0x7aff8c347940>"
            ]
          },
          "metadata": {},
          "execution_count": 12
        }
      ],
      "source": [
        "# Apply Hadamard gates before querying the oracle\n",
        "simon_circuit.h(range(m))"
      ]
    },
    {
      "cell_type": "markdown",
      "metadata": {
        "id": "fimD39aFwO__"
      },
      "source": [
        "Applying Hadamard gates to the qubits is a crucial step in preparing the input superposition necessary for Simon's algorithm to efficiently solve for the hidden pattern."
      ]
    },
    {
      "cell_type": "code",
      "execution_count": 13,
      "metadata": {
        "colab": {
          "base_uri": "https://localhost:8080/"
        },
        "id": "EFmGBaEWkcPk",
        "outputId": "3620c857-076f-4530-a99b-1cf19d3b5c10"
      },
      "outputs": [
        {
          "output_type": "execute_result",
          "data": {
            "text/plain": [
              "<qiskit.circuit.instructionset.InstructionSet at 0x7aff8c347be0>"
            ]
          },
          "metadata": {},
          "execution_count": 13
        }
      ],
      "source": [
        "# Apply barrier for visual separation\n",
        "\n",
        "\n",
        "simon_circuit.barrier()\n"
      ]
    },
    {
      "cell_type": "markdown",
      "metadata": {
        "id": "PuTuOkfQwZ7F"
      },
      "source": [
        "This code snippet adds a barrier to the simon_circuit for the purpose of visually separating different parts of the circuit. Barriers are useful for organizing and understanding the various steps or stages of a quantum computation. They help visualize the execution flow and can aid in debugging and analysis of quantum circuits."
      ]
    },
    {
      "cell_type": "code",
      "execution_count": 14,
      "metadata": {
        "colab": {
          "base_uri": "https://localhost:8080/"
        },
        "id": "mU3KoBOInLBk",
        "outputId": "9cbc9b31-fcc1-409c-a458-f01330ba0a14"
      },
      "outputs": [
        {
          "output_type": "execute_result",
          "data": {
            "text/plain": [
              "<qiskit.circuit.instructionset.InstructionSet at 0x7aff8c347fa0>"
            ]
          },
          "metadata": {},
          "execution_count": 14
        }
      ],
      "source": [
        "# Apply barrier for visual separation\n",
        "simon_circuit.barrier()"
      ]
    },
    {
      "cell_type": "code",
      "execution_count": 15,
      "metadata": {
        "colab": {
          "base_uri": "https://localhost:8080/"
        },
        "id": "z4yOxteqngsO",
        "outputId": "7fd9a7e8-c61b-416d-ec8f-a7500d19e002"
      },
      "outputs": [
        {
          "output_type": "execute_result",
          "data": {
            "text/plain": [
              "<qiskit.circuit.instructionset.InstructionSet at 0x7aff8c380400>"
            ]
          },
          "metadata": {},
          "execution_count": 15
        }
      ],
      "source": [
        "# Apply Hadamard gates to the input register\n",
        "simon_circuit.h(range(m))"
      ]
    },
    {
      "cell_type": "markdown",
      "metadata": {
        "id": "5zc5HeP1ukpK"
      },
      "source": [
        " the provided code snippet applies Hadamard gates to the qubits in the input register of the simon_circuit. This step is commonly used in quantum algorithms to create superposition states that allow the algorithm to process multiple inputs simultaneously in parallel, which is a fundamental concept in quantum computing."
      ]
    },
    {
      "cell_type": "code",
      "execution_count": 16,
      "metadata": {
        "colab": {
          "base_uri": "https://localhost:8080/",
          "height": 556
        },
        "id": "RQwllxt9ny2N",
        "outputId": "4688451b-06ec-412e-833e-0db3658b566e"
      },
      "outputs": [
        {
          "output_type": "execute_result",
          "data": {
            "text/plain": [
              "      ┌───┐ ░  ░ ┌───┐┌─┐                     \n",
              " q_0: ┤ H ├─░──░─┤ H ├┤M├─────────────────────\n",
              "      ├───┤ ░  ░ ├───┤└╥┘┌─┐                  \n",
              " q_1: ┤ H ├─░──░─┤ H ├─╫─┤M├──────────────────\n",
              "      ├───┤ ░  ░ ├───┤ ║ └╥┘┌─┐               \n",
              " q_2: ┤ H ├─░──░─┤ H ├─╫──╫─┤M├───────────────\n",
              "      ├───┤ ░  ░ ├───┤ ║  ║ └╥┘┌─┐            \n",
              " q_3: ┤ H ├─░──░─┤ H ├─╫──╫──╫─┤M├────────────\n",
              "      ├───┤ ░  ░ ├───┤ ║  ║  ║ └╥┘┌─┐         \n",
              " q_4: ┤ H ├─░──░─┤ H ├─╫──╫──╫──╫─┤M├─────────\n",
              "      ├───┤ ░  ░ ├───┤ ║  ║  ║  ║ └╥┘┌─┐      \n",
              " q_5: ┤ H ├─░──░─┤ H ├─╫──╫──╫──╫──╫─┤M├──────\n",
              "      ├───┤ ░  ░ ├───┤ ║  ║  ║  ║  ║ └╥┘┌─┐   \n",
              " q_6: ┤ H ├─░──░─┤ H ├─╫──╫──╫──╫──╫──╫─┤M├───\n",
              "      ├───┤ ░  ░ ├───┤ ║  ║  ║  ║  ║  ║ └╥┘┌─┐\n",
              " q_7: ┤ H ├─░──░─┤ H ├─╫──╫──╫──╫──╫──╫──╫─┤M├\n",
              "      └───┘ ░  ░ └───┘ ║  ║  ║  ║  ║  ║  ║ └╥┘\n",
              " q_8: ──────░──░───────╫──╫──╫──╫──╫──╫──╫──╫─\n",
              "            ░  ░       ║  ║  ║  ║  ║  ║  ║  ║ \n",
              " q_9: ──────░──░───────╫──╫──╫──╫──╫──╫──╫──╫─\n",
              "            ░  ░       ║  ║  ║  ║  ║  ║  ║  ║ \n",
              "q_10: ──────░──░───────╫──╫──╫──╫──╫──╫──╫──╫─\n",
              "            ░  ░       ║  ║  ║  ║  ║  ║  ║  ║ \n",
              "q_11: ──────░──░───────╫──╫──╫──╫──╫──╫──╫──╫─\n",
              "            ░  ░       ║  ║  ║  ║  ║  ║  ║  ║ \n",
              "q_12: ──────░──░───────╫──╫──╫──╫──╫──╫──╫──╫─\n",
              "            ░  ░       ║  ║  ║  ║  ║  ║  ║  ║ \n",
              "q_13: ──────░──░───────╫──╫──╫──╫──╫──╫──╫──╫─\n",
              "            ░  ░       ║  ║  ║  ║  ║  ║  ║  ║ \n",
              "q_14: ──────░──░───────╫──╫──╫──╫──╫──╫──╫──╫─\n",
              "            ░  ░       ║  ║  ║  ║  ║  ║  ║  ║ \n",
              "q_15: ──────░──░───────╫──╫──╫──╫──╫──╫──╫──╫─\n",
              "            ░  ░       ║  ║  ║  ║  ║  ║  ║  ║ \n",
              " c: 8/═════════════════╩══╩══╩══╩══╩══╩══╩══╩═\n",
              "                       0  1  2  3  4  5  6  7 "
            ],
            "text/html": [
              "<pre style=\"word-wrap: normal;white-space: pre;background: #fff0;line-height: 1.1;font-family: &quot;Courier New&quot;,Courier,monospace\">      ┌───┐ ░  ░ ┌───┐┌─┐                     \n",
              " q_0: ┤ H ├─░──░─┤ H ├┤M├─────────────────────\n",
              "      ├───┤ ░  ░ ├───┤└╥┘┌─┐                  \n",
              " q_1: ┤ H ├─░──░─┤ H ├─╫─┤M├──────────────────\n",
              "      ├───┤ ░  ░ ├───┤ ║ └╥┘┌─┐               \n",
              " q_2: ┤ H ├─░──░─┤ H ├─╫──╫─┤M├───────────────\n",
              "      ├───┤ ░  ░ ├───┤ ║  ║ └╥┘┌─┐            \n",
              " q_3: ┤ H ├─░──░─┤ H ├─╫──╫──╫─┤M├────────────\n",
              "      ├───┤ ░  ░ ├───┤ ║  ║  ║ └╥┘┌─┐         \n",
              " q_4: ┤ H ├─░──░─┤ H ├─╫──╫──╫──╫─┤M├─────────\n",
              "      ├───┤ ░  ░ ├───┤ ║  ║  ║  ║ └╥┘┌─┐      \n",
              " q_5: ┤ H ├─░──░─┤ H ├─╫──╫──╫──╫──╫─┤M├──────\n",
              "      ├───┤ ░  ░ ├───┤ ║  ║  ║  ║  ║ └╥┘┌─┐   \n",
              " q_6: ┤ H ├─░──░─┤ H ├─╫──╫──╫──╫──╫──╫─┤M├───\n",
              "      ├───┤ ░  ░ ├───┤ ║  ║  ║  ║  ║  ║ └╥┘┌─┐\n",
              " q_7: ┤ H ├─░──░─┤ H ├─╫──╫──╫──╫──╫──╫──╫─┤M├\n",
              "      └───┘ ░  ░ └───┘ ║  ║  ║  ║  ║  ║  ║ └╥┘\n",
              " q_8: ──────░──░───────╫──╫──╫──╫──╫──╫──╫──╫─\n",
              "            ░  ░       ║  ║  ║  ║  ║  ║  ║  ║ \n",
              " q_9: ──────░──░───────╫──╫──╫──╫──╫──╫──╫──╫─\n",
              "            ░  ░       ║  ║  ║  ║  ║  ║  ║  ║ \n",
              "q_10: ──────░──░───────╫──╫──╫──╫──╫──╫──╫──╫─\n",
              "            ░  ░       ║  ║  ║  ║  ║  ║  ║  ║ \n",
              "q_11: ──────░──░───────╫──╫──╫──╫──╫──╫──╫──╫─\n",
              "            ░  ░       ║  ║  ║  ║  ║  ║  ║  ║ \n",
              "q_12: ──────░──░───────╫──╫──╫──╫──╫──╫──╫──╫─\n",
              "            ░  ░       ║  ║  ║  ║  ║  ║  ║  ║ \n",
              "q_13: ──────░──░───────╫──╫──╫──╫──╫──╫──╫──╫─\n",
              "            ░  ░       ║  ║  ║  ║  ║  ║  ║  ║ \n",
              "q_14: ──────░──░───────╫──╫──╫──╫──╫──╫──╫──╫─\n",
              "            ░  ░       ║  ║  ║  ║  ║  ║  ║  ║ \n",
              "q_15: ──────░──░───────╫──╫──╫──╫──╫──╫──╫──╫─\n",
              "            ░  ░       ║  ║  ║  ║  ║  ║  ║  ║ \n",
              " c: 8/═════════════════╩══╩══╩══╩══╩══╩══╩══╩═\n",
              "                       0  1  2  3  4  5  6  7 </pre>"
            ]
          },
          "metadata": {},
          "execution_count": 16
        }
      ],
      "source": [
        "# Measure qubits\n",
        "simon_circuit.measure(range(m), range(m))\n",
        "simon_circuit.draw()"
      ]
    },
    {
      "cell_type": "markdown",
      "metadata": {
        "id": "tPz9aVSIuMQy"
      },
      "source": [
        "he provided code snippet adds measurement operations to the simon_circuit to measure the qubits, and then it displays the circuit diagram using the draw method. This allows you to see the full structure of the circuit, including both the gates and the measurement operations."
      ]
    },
    {
      "cell_type": "code",
      "execution_count": 17,
      "metadata": {
        "id": "p4F-PdYBp4zG"
      },
      "outputs": [],
      "source": [
        "#3a. Experiment with simulators"
      ]
    },
    {
      "cell_type": "markdown",
      "metadata": {
        "id": "NVKrDRuUqDd4"
      },
      "source": [
        "We can run the above circuit on the simulator."
      ]
    },
    {
      "cell_type": "code",
      "execution_count": 18,
      "metadata": {
        "colab": {
          "base_uri": "https://localhost:8080/",
          "height": 530
        },
        "id": "3MBqcR2zqHJP",
        "outputId": "d6ddde0f-d45c-4daa-ec64-8f9f69997833"
      },
      "outputs": [
        {
          "output_type": "execute_result",
          "data": {
            "text/plain": [
              "<Figure size 700x500 with 1 Axes>"
            ],
            "image/png": "[encoded data removed]"
          },
          "metadata": {},
          "execution_count": 18
        }
      ],
      "source": [
        "# use local simulator\n",
        "aer_sim = Aer.get_backend('aer_simulator')\n",
        "results = aer_sim.run(simon_circuit).result()\n",
        "counts = results.get_counts()\n",
        "plot_histogram(counts)"
      ]
    },
    {
      "cell_type": "markdown",
      "metadata": {
        "id": "DdS6Uee_tkNP"
      },
      "source": [
        "In summary, this code snippet simulates the execution of the simon_circuit using the local Aer simulator. It then collects the measurement counts and plots a histogram to visualize the distribution of measurement outcomes. This helps you understand the probabilities associated with different measurement results and gain insights into the behavior of the quantum circuit."
      ]
    },
    {
      "cell_type": "code",
      "source": [],
      "metadata": {
        "id": "JA-8Wr2DVPR4"
      },
      "execution_count": null,
      "outputs": []
    },
    {
      "cell_type": "code",
      "execution_count": 19,
      "metadata": {
        "colab": {
          "base_uri": "https://localhost:8080/"
        },
        "id": "UMENDPOXxazB",
        "outputId": "7f5ca395-f906-4cbe-de11-ed94ae9bd87f"
      },
      "outputs": [
        {
          "output_type": "stream",
          "name": "stdout",
          "text": [
            "35422236.00000000 = 0 (mod 2)\n"
          ]
        }
      ],
      "source": [
        "# Calculate the dot product of the results\n",
        "def bdotz(c, z):\n",
        "    accum = 0\n",
        "    for i in range(len(c)):\n",
        "        accum += int(c[i]) * int(z[i])\n",
        "    return (accum % 2)\n",
        "\n",
        "for z in counts:\n",
        "    print( '{}.{} = {} (mod 2)'.format(c, z, bdotz(c,z)) )"
      ]
    },
    {
      "cell_type": "markdown",
      "metadata": {
        "id": "03Eb12cvyd07"
      },
      "source": [
        "    def bdotz(c, z)::\n",
        "        This line defines a function named bdotz that takes two arguments, c and z. This function is intended to calculate the dot product of two binary strings modulo 2.\n",
        "\n",
        "    accum = 0:\n",
        "        Initializes an accumulator variable to 0. This variable will store the accumulated sum of the dot product calculations.\n",
        "\n",
        "    for i in range(len(c))::\n",
        "        This line initiates a loop that iterates over the indices of the characters in the binary string c. len(c) returns the length of the binary string.\n",
        "\n",
        "    accum += int(c[i]) * int(z[i]):\n",
        "        Inside the loop, this line calculates the product of the corresponding bits (characters) in the binary strings c and z. The int() function is used to convert the character (either '0' or '1') to an integer for multiplication.\n",
        "\n",
        "    return (accum % 2):\n",
        "        After the loop, this line returns the accumulated sum modulo 2. This effectively calculates the dot product modulo 2.\n",
        "\n",
        "    for z in counts::\n",
        "        This line initiates a loop that iterates over the measurement outcomes stored in the counts dictionary. Each z represents a measurement outcome in binary form.\n",
        "\n",
        "    print( '{}.{} = {} (mod 2)'.format(c, z, bdotz(c,z)) ):\n",
        "        This line prints out the formatted string indicating the dot product modulo 2 calculation for each measurement outcome. It uses the bdotz function to calculate the dot product and formats the output to display the input string c, the measurement outcome z, and the calculated result.\n",
        "\n",
        "In summary, the provided code snippet defines a function bdotz to calculate the dot product modulo 2 of two binary strings, and then it iterates through the measurement outcomes obtained from the quantum simulation, calculating and displaying the dot product modulo 2 for each outcome."
      ]
    },
    {
      "cell_type": "code",
      "execution_count": 20,
      "metadata": {
        "id": "5VOtYUZ9ytOR"
      },
      "outputs": [],
      "source": [
        "#3b. Experiment with real devices\n",
        "#It looks like you're referring to a section or a task related to experimenting with real quantum devices in the context of quantum computing."
      ]
    },
    {
      "cell_type": "code",
      "execution_count": 21,
      "metadata": {
        "id": "7mIURZHKzICB"
      },
      "outputs": [],
      "source": [
        "c = '16'\n",
        "m = len(c)"
      ]
    },
    {
      "cell_type": "code",
      "execution_count": 22,
      "metadata": {
        "id": "tKbN3VzK4R4b"
      },
      "outputs": [],
      "source": [
        "simon_circuit_2 = QuantumCircuit(m*2, m)"
      ]
    },
    {
      "cell_type": "code",
      "execution_count": 23,
      "metadata": {
        "colab": {
          "base_uri": "https://localhost:8080/"
        },
        "id": "89MYiLHJ4cH-",
        "outputId": "d5cc2723-d3de-4f05-a795-42fa77a2920f"
      },
      "outputs": [
        {
          "output_type": "execute_result",
          "data": {
            "text/plain": [
              "<qiskit.circuit.instructionset.InstructionSet at 0x7aff6b289e10>"
            ]
          },
          "metadata": {},
          "execution_count": 23
        }
      ],
      "source": [
        "# Apply Hadamard gates before querying the oracle\n",
        "simon_circuit_2.h(range(m))"
      ]
    },
    {
      "cell_type": "markdown",
      "metadata": {
        "id": "akkW1eGZiLzl"
      },
      "source": [
        "By applying Hadamard gates to the input register before querying the oracle, the circuit prepares the qubits in a superposition of all possible classical states. This step is crucial in Simon's algorithm as it helps to introduce entanglement and facilitates the extraction of information about the hidden string s from the oracle's responses."
      ]
    },
    {
      "cell_type": "code",
      "execution_count": 24,
      "metadata": {
        "id": "1QvX9Xgk4mV2"
      },
      "outputs": [],
      "source": [
        "# Query oracle\n",
        "simon_circuit_2 = simon_circuit_2.compose(simon_oracle(c))"
      ]
    },
    {
      "cell_type": "markdown",
      "metadata": {
        "id": "dkT_EsE-iB1F"
      },
      "source": [
        "By querying the oracle in this way, the circuit performs the key step of Simon's algorithm, which aims to extract information about the hidden string s by analyzing the patterns in the oracle's outputs."
      ]
    },
    {
      "cell_type": "code",
      "execution_count": 25,
      "metadata": {
        "colab": {
          "base_uri": "https://localhost:8080/"
        },
        "id": "f12je5Lw452i",
        "outputId": "041b5309-4c33-4971-fe97-ca6adceee0dd"
      },
      "outputs": [
        {
          "output_type": "execute_result",
          "data": {
            "text/plain": [
              "<qiskit.circuit.instructionset.InstructionSet at 0x7aff6b28a0e0>"
            ]
          },
          "metadata": {},
          "execution_count": 25
        }
      ],
      "source": [
        "# Apply Hadamard gates to the input register\n",
        "simon_circuit_2.h(range(m))"
      ]
    },
    {
      "cell_type": "markdown",
      "metadata": {
        "id": "nJCQ88UUhvVN"
      },
      "source": [
        "By applying Hadamard gates to the input register, the circuit prepares the qubits in a superposition of all possible classical states, which is a key step in Simon's algorithm to extract information about the hidden string s."
      ]
    },
    {
      "cell_type": "code",
      "execution_count": 26,
      "metadata": {
        "colab": {
          "base_uri": "https://localhost:8080/",
          "height": 186
        },
        "id": "4PVnCyzA4-lz",
        "outputId": "8e53c1ba-056b-494a-badb-1dcefa100b8d"
      },
      "outputs": [
        {
          "output_type": "execute_result",
          "data": {
            "text/plain": [
              "     ┌───┐     ┌───┐          ┌─┐   \n",
              "q_0: ┤ H ├──■──┤ H ├──────────┤M├───\n",
              "     ├───┤  │  └───┘     ┌───┐└╥┘┌─┐\n",
              "q_1: ┤ H ├──┼────■────■──┤ H ├─╫─┤M├\n",
              "     └───┘┌─┴─┐  │    │  └───┘ ║ └╥┘\n",
              "q_2: ─────┤ X ├──┼────┼────────╫──╫─\n",
              "          └───┘┌─┴─┐┌─┴─┐      ║  ║ \n",
              "q_3: ──────────┤ X ├┤ X ├──────╫──╫─\n",
              "               └───┘└───┘      ║  ║ \n",
              "c: 2/══════════════════════════╩══╩═\n",
              "                               0  1 "
            ],
            "text/html": [
              "<pre style=\"word-wrap: normal;white-space: pre;background: #fff0;line-height: 1.1;font-family: &quot;Courier New&quot;,Courier,monospace\">     ┌───┐     ┌───┐          ┌─┐   \n",
              "q_0: ┤ H ├──■──┤ H ├──────────┤M├───\n",
              "     ├───┤  │  └───┘     ┌───┐└╥┘┌─┐\n",
              "q_1: ┤ H ├──┼────■────■──┤ H ├─╫─┤M├\n",
              "     └───┘┌─┴─┐  │    │  └───┘ ║ └╥┘\n",
              "q_2: ─────┤ X ├──┼────┼────────╫──╫─\n",
              "          └───┘┌─┴─┐┌─┴─┐      ║  ║ \n",
              "q_3: ──────────┤ X ├┤ X ├──────╫──╫─\n",
              "               └───┘└───┘      ║  ║ \n",
              "c: 2/══════════════════════════╩══╩═\n",
              "                               0  1 </pre>"
            ]
          },
          "metadata": {},
          "execution_count": 26
        }
      ],
      "source": [
        "# Measure qubits\n",
        "simon_circuit_2.measure(range(m), range(m))\n",
        "simon_circuit_2.draw()"
      ]
    },
    {
      "cell_type": "markdown",
      "metadata": {
        "id": "TlMI3biThfCW"
      },
      "source": [
        "The code prepares the circuit for measurement by adding measurement operations to each qubit, and then it displays the circuit's visual representation for you to inspect."
      ]
    },
    {
      "cell_type": "code",
      "execution_count": 27,
      "metadata": {
        "colab": {
          "base_uri": "https://localhost:8080/"
        },
        "id": "1IlbPn8M6JD0",
        "outputId": "0cc27855-3e0e-4d61-dcfb-342799507b1a"
      },
      "outputs": [
        {
          "output_type": "stream",
          "name": "stdout",
          "text": [
            "Requirement already satisfied: qiskit-ibmq-provider in /usr/local/lib/python3.10/dist-packages (0.20.2)\n",
            "Requirement already satisfied: qiskit-terra>=0.18.0 in /usr/local/lib/python3.10/dist-packages (from qiskit-ibmq-provider) (0.25.1)\n",
            "Requirement already satisfied: requests>=2.19 in /usr/local/lib/python3.10/dist-packages (from qiskit-ibmq-provider) (2.31.0)\n",
            "Requirement already satisfied: requests-ntlm<=1.1.0 in /usr/local/lib/python3.10/dist-packages (from qiskit-ibmq-provider) (1.1.0)\n",
            "Requirement already satisfied: numpy<1.24 in /usr/local/lib/python3.10/dist-packages (from qiskit-ibmq-provider) (1.23.5)\n",
            "Requirement already satisfied: urllib3>=1.21.1 in /usr/local/lib/python3.10/dist-packages (from qiskit-ibmq-provider) (2.0.4)\n",
            "Requirement already satisfied: python-dateutil>=2.8.0 in /usr/local/lib/python3.10/dist-packages (from qiskit-ibmq-provider) (2.8.2)\n",
            "Requirement already satisfied: websocket-client>=1.5.1 in /usr/local/lib/python3.10/dist-packages (from qiskit-ibmq-provider) (1.6.2)\n",
            "Requirement already satisfied: websockets>=10.0 in /usr/local/lib/python3.10/dist-packages (from qiskit-ibmq-provider) (11.0.3)\n",
            "Requirement already satisfied: six>=1.5 in /usr/local/lib/python3.10/dist-packages (from python-dateutil>=2.8.0->qiskit-ibmq-provider) (1.16.0)\n",
            "Requirement already satisfied: rustworkx>=0.13.0 in /usr/local/lib/python3.10/dist-packages (from qiskit-terra>=0.18.0->qiskit-ibmq-provider) (0.13.1)\n",
            "Requirement already satisfied: ply>=3.10 in /usr/local/lib/python3.10/dist-packages (from qiskit-terra>=0.18.0->qiskit-ibmq-provider) (3.11)\n",
            "Requirement already satisfied: psutil>=5 in /usr/local/lib/python3.10/dist-packages (from qiskit-terra>=0.18.0->qiskit-ibmq-provider) (5.9.5)\n",
            "Requirement already satisfied: scipy>=1.5 in /usr/local/lib/python3.10/dist-packages (from qiskit-terra>=0.18.0->qiskit-ibmq-provider) (1.10.1)\n",
            "Requirement already satisfied: sympy>=1.3 in /usr/local/lib/python3.10/dist-packages (from qiskit-terra>=0.18.0->qiskit-ibmq-provider) (1.12)\n",
            "Requirement already satisfied: dill>=0.3 in /usr/local/lib/python3.10/dist-packages (from qiskit-terra>=0.18.0->qiskit-ibmq-provider) (0.3.7)\n",
            "Requirement already satisfied: stevedore>=3.0.0 in /usr/local/lib/python3.10/dist-packages (from qiskit-terra>=0.18.0->qiskit-ibmq-provider) (5.1.0)\n",
            "Requirement already satisfied: symengine<0.10,>=0.9 in /usr/local/lib/python3.10/dist-packages (from qiskit-terra>=0.18.0->qiskit-ibmq-provider) (0.9.2)\n",
            "Requirement already satisfied: typing-extensions in /usr/local/lib/python3.10/dist-packages (from qiskit-terra>=0.18.0->qiskit-ibmq-provider) (4.7.1)\n",
            "Requirement already satisfied: charset-normalizer<4,>=2 in /usr/local/lib/python3.10/dist-packages (from requests>=2.19->qiskit-ibmq-provider) (3.2.0)\n",
            "Requirement already satisfied: idna<4,>=2.5 in /usr/local/lib/python3.10/dist-packages (from requests>=2.19->qiskit-ibmq-provider) (3.4)\n",
            "Requirement already satisfied: certifi>=2017.4.17 in /usr/local/lib/python3.10/dist-packages (from requests>=2.19->qiskit-ibmq-provider) (2023.7.22)\n",
            "Requirement already satisfied: ntlm-auth>=1.0.2 in /usr/local/lib/python3.10/dist-packages (from requests-ntlm<=1.1.0->qiskit-ibmq-provider) (1.5.0)\n",
            "Requirement already satisfied: cryptography>=1.3 in /usr/local/lib/python3.10/dist-packages (from requests-ntlm<=1.1.0->qiskit-ibmq-provider) (41.0.3)\n",
            "Requirement already satisfied: cffi>=1.12 in /usr/local/lib/python3.10/dist-packages (from cryptography>=1.3->requests-ntlm<=1.1.0->qiskit-ibmq-provider) (1.15.1)\n",
            "Requirement already satisfied: pbr!=2.1.0,>=2.0.0 in /usr/local/lib/python3.10/dist-packages (from stevedore>=3.0.0->qiskit-terra>=0.18.0->qiskit-ibmq-provider) (5.11.1)\n",
            "Requirement already satisfied: mpmath>=0.19 in /usr/local/lib/python3.10/dist-packages (from sympy>=1.3->qiskit-terra>=0.18.0->qiskit-ibmq-provider) (1.3.0)\n",
            "Requirement already satisfied: pycparser in /usr/local/lib/python3.10/dist-packages (from cffi>=1.12->cryptography>=1.3->requests-ntlm<=1.1.0->qiskit-ibmq-provider) (2.21)\n"
          ]
        }
      ],
      "source": [
        "#Install Required Libraries\n",
        "!pip install qiskit-ibmq-provider"
      ]
    },
    {
      "cell_type": "markdown",
      "metadata": {
        "id": "J4Zs9eJOhOt0"
      },
      "source": [
        "Running this command in your terminal or command prompt will download and install the qiskit-ibmq-provider library along with its dependencies, enabling you to access IBM Quantum Experience's quantum devices and providers through Qiskit."
      ]
    },
    {
      "cell_type": "code",
      "execution_count": 28,
      "metadata": {
        "colab": {
          "base_uri": "https://localhost:8080/"
        },
        "id": "cMKuymxIGix1",
        "outputId": "256ebd17-e622-4ef5-8a52-93f013121dcf"
      },
      "outputs": [
        {
          "output_type": "stream",
          "name": "stdout",
          "text": [
            "Requirement already satisfied: qiskit in /usr/local/lib/python3.10/dist-packages (0.44.1)\n",
            "Requirement already satisfied: qiskit-terra==0.25.1 in /usr/local/lib/python3.10/dist-packages (from qiskit) (0.25.1)\n",
            "Requirement already satisfied: rustworkx>=0.13.0 in /usr/local/lib/python3.10/dist-packages (from qiskit-terra==0.25.1->qiskit) (0.13.1)\n",
            "Requirement already satisfied: numpy>=1.17 in /usr/local/lib/python3.10/dist-packages (from qiskit-terra==0.25.1->qiskit) (1.23.5)\n",
            "Requirement already satisfied: ply>=3.10 in /usr/local/lib/python3.10/dist-packages (from qiskit-terra==0.25.1->qiskit) (3.11)\n",
            "Requirement already satisfied: psutil>=5 in /usr/local/lib/python3.10/dist-packages (from qiskit-terra==0.25.1->qiskit) (5.9.5)\n",
            "Requirement already satisfied: scipy>=1.5 in /usr/local/lib/python3.10/dist-packages (from qiskit-terra==0.25.1->qiskit) (1.10.1)\n",
            "Requirement already satisfied: sympy>=1.3 in /usr/local/lib/python3.10/dist-packages (from qiskit-terra==0.25.1->qiskit) (1.12)\n",
            "Requirement already satisfied: dill>=0.3 in /usr/local/lib/python3.10/dist-packages (from qiskit-terra==0.25.1->qiskit) (0.3.7)\n",
            "Requirement already satisfied: python-dateutil>=2.8.0 in /usr/local/lib/python3.10/dist-packages (from qiskit-terra==0.25.1->qiskit) (2.8.2)\n",
            "Requirement already satisfied: stevedore>=3.0.0 in /usr/local/lib/python3.10/dist-packages (from qiskit-terra==0.25.1->qiskit) (5.1.0)\n",
            "Requirement already satisfied: symengine<0.10,>=0.9 in /usr/local/lib/python3.10/dist-packages (from qiskit-terra==0.25.1->qiskit) (0.9.2)\n",
            "Requirement already satisfied: typing-extensions in /usr/local/lib/python3.10/dist-packages (from qiskit-terra==0.25.1->qiskit) (4.7.1)\n",
            "Requirement already satisfied: six>=1.5 in /usr/local/lib/python3.10/dist-packages (from python-dateutil>=2.8.0->qiskit-terra==0.25.1->qiskit) (1.16.0)\n",
            "Requirement already satisfied: pbr!=2.1.0,>=2.0.0 in /usr/local/lib/python3.10/dist-packages (from stevedore>=3.0.0->qiskit-terra==0.25.1->qiskit) (5.11.1)\n",
            "Requirement already satisfied: mpmath>=0.19 in /usr/local/lib/python3.10/dist-packages (from sympy>=1.3->qiskit-terra==0.25.1->qiskit) (1.3.0)\n"
          ]
        }
      ],
      "source": [
        "!pip install qiskit"
      ]
    },
    {
      "cell_type": "code",
      "execution_count": 29,
      "metadata": {
        "colab": {
          "base_uri": "https://localhost:8080/"
        },
        "id": "tWjFwF1J2NeK",
        "outputId": "73bdc6b3-e477-4773-a3dd-6f5fd993e61e"
      },
      "outputs": [
        {
          "output_type": "stream",
          "name": "stdout",
          "text": [
            "Requirement already satisfied: qiskit_ibm_provider in /usr/local/lib/python3.10/dist-packages (0.7.0)\n",
            "Requirement already satisfied: qiskit>=0.44.1 in /usr/local/lib/python3.10/dist-packages (from qiskit_ibm_provider) (0.44.1)\n",
            "Requirement already satisfied: requests>=2.19 in /usr/local/lib/python3.10/dist-packages (from qiskit_ibm_provider) (2.31.0)\n",
            "Requirement already satisfied: requests-ntlm>=1.1.0 in /usr/local/lib/python3.10/dist-packages (from qiskit_ibm_provider) (1.1.0)\n",
            "Requirement already satisfied: numpy>=1.13 in /usr/local/lib/python3.10/dist-packages (from qiskit_ibm_provider) (1.23.5)\n",
            "Requirement already satisfied: urllib3>=1.21.1 in /usr/local/lib/python3.10/dist-packages (from qiskit_ibm_provider) (2.0.4)\n",
            "Requirement already satisfied: python-dateutil>=2.8.0 in /usr/local/lib/python3.10/dist-packages (from qiskit_ibm_provider) (2.8.2)\n",
            "Requirement already satisfied: websocket-client>=1.5.1 in /usr/local/lib/python3.10/dist-packages (from qiskit_ibm_provider) (1.6.2)\n",
            "Requirement already satisfied: websockets>=10.0 in /usr/local/lib/python3.10/dist-packages (from qiskit_ibm_provider) (11.0.3)\n",
            "Requirement already satisfied: typing-extensions>=4.3 in /usr/local/lib/python3.10/dist-packages (from qiskit_ibm_provider) (4.7.1)\n",
            "Requirement already satisfied: six>=1.5 in /usr/local/lib/python3.10/dist-packages (from python-dateutil>=2.8.0->qiskit_ibm_provider) (1.16.0)\n",
            "Requirement already satisfied: qiskit-terra==0.25.1 in /usr/local/lib/python3.10/dist-packages (from qiskit>=0.44.1->qiskit_ibm_provider) (0.25.1)\n",
            "Requirement already satisfied: rustworkx>=0.13.0 in /usr/local/lib/python3.10/dist-packages (from qiskit-terra==0.25.1->qiskit>=0.44.1->qiskit_ibm_provider) (0.13.1)\n",
            "Requirement already satisfied: ply>=3.10 in /usr/local/lib/python3.10/dist-packages (from qiskit-terra==0.25.1->qiskit>=0.44.1->qiskit_ibm_provider) (3.11)\n",
            "Requirement already satisfied: psutil>=5 in /usr/local/lib/python3.10/dist-packages (from qiskit-terra==0.25.1->qiskit>=0.44.1->qiskit_ibm_provider) (5.9.5)\n",
            "Requirement already satisfied: scipy>=1.5 in /usr/local/lib/python3.10/dist-packages (from qiskit-terra==0.25.1->qiskit>=0.44.1->qiskit_ibm_provider) (1.10.1)\n",
            "Requirement already satisfied: sympy>=1.3 in /usr/local/lib/python3.10/dist-packages (from qiskit-terra==0.25.1->qiskit>=0.44.1->qiskit_ibm_provider) (1.12)\n",
            "Requirement already satisfied: dill>=0.3 in /usr/local/lib/python3.10/dist-packages (from qiskit-terra==0.25.1->qiskit>=0.44.1->qiskit_ibm_provider) (0.3.7)\n",
            "Requirement already satisfied: stevedore>=3.0.0 in /usr/local/lib/python3.10/dist-packages (from qiskit-terra==0.25.1->qiskit>=0.44.1->qiskit_ibm_provider) (5.1.0)\n",
            "Requirement already satisfied: symengine<0.10,>=0.9 in /usr/local/lib/python3.10/dist-packages (from qiskit-terra==0.25.1->qiskit>=0.44.1->qiskit_ibm_provider) (0.9.2)\n",
            "Requirement already satisfied: charset-normalizer<4,>=2 in /usr/local/lib/python3.10/dist-packages (from requests>=2.19->qiskit_ibm_provider) (3.2.0)\n",
            "Requirement already satisfied: idna<4,>=2.5 in /usr/local/lib/python3.10/dist-packages (from requests>=2.19->qiskit_ibm_provider) (3.4)\n",
            "Requirement already satisfied: certifi>=2017.4.17 in /usr/local/lib/python3.10/dist-packages (from requests>=2.19->qiskit_ibm_provider) (2023.7.22)\n",
            "Requirement already satisfied: ntlm-auth>=1.0.2 in /usr/local/lib/python3.10/dist-packages (from requests-ntlm>=1.1.0->qiskit_ibm_provider) (1.5.0)\n",
            "Requirement already satisfied: cryptography>=1.3 in /usr/local/lib/python3.10/dist-packages (from requests-ntlm>=1.1.0->qiskit_ibm_provider) (41.0.3)\n",
            "Requirement already satisfied: cffi>=1.12 in /usr/local/lib/python3.10/dist-packages (from cryptography>=1.3->requests-ntlm>=1.1.0->qiskit_ibm_provider) (1.15.1)\n",
            "Requirement already satisfied: pycparser in /usr/local/lib/python3.10/dist-packages (from cffi>=1.12->cryptography>=1.3->requests-ntlm>=1.1.0->qiskit_ibm_provider) (2.21)\n",
            "Requirement already satisfied: pbr!=2.1.0,>=2.0.0 in /usr/local/lib/python3.10/dist-packages (from stevedore>=3.0.0->qiskit-terra==0.25.1->qiskit>=0.44.1->qiskit_ibm_provider) (5.11.1)\n",
            "Requirement already satisfied: mpmath>=0.19 in /usr/local/lib/python3.10/dist-packages (from sympy>=1.3->qiskit-terra==0.25.1->qiskit>=0.44.1->qiskit_ibm_provider) (1.3.0)\n"
          ]
        }
      ],
      "source": [
        "!pip install qiskit_ibm_provider"
      ]
    },
    {
      "cell_type": "markdown",
      "metadata": {
        "id": "5XunFqzphFaG"
      },
      "source": [
        "This will download and install the Qiskit library and its dependencies, allowing you to use Qiskit for quantum computing tasks."
      ]
    },
    {
      "cell_type": "code",
      "execution_count": 30,
      "metadata": {
        "colab": {
          "base_uri": "https://localhost:8080/"
        },
        "id": "G-ucNpenCkHf",
        "outputId": "5fb24a38-1150-47ac-c91f-39be4267c579"
      },
      "outputs": [
        {
          "output_type": "stream",
          "name": "stderr",
          "text": [
            "<ipython-input-30-5b3df4540a19>:8: DeprecationWarning: The qiskit.IBMQ entrypoint and the qiskit-ibmq-provider package (accessible from 'qiskit.providers.ibmq`) are deprecated and will be removed in a future release. Instead you should use the qiskit-ibm-provider package which is accessible from 'qiskit_ibm_provider'. You can install it with 'pip install qiskit_ibm_provider'. Just replace 'qiskit.IBMQ' with 'qiskit_ibm_provider.IBMProvider'\n",
            "  IBMQ.save_account('5685a1a317357e03d9561f14ca96d7c3eb58c01061852a2ecd09c3f03d30ea746afcdec445bc32bd8cc9688513ea39fc551491d312745e813d487d7f5c8c271f')\n",
            "configrc.store_credentials:WARNING:2023-09-01 19:11:20,468: Credentials already present. Set overwrite=True to overwrite.\n"
          ]
        }
      ],
      "source": [
        "from qiskit import IBMQ\n",
        "from qiskit.providers.ibmq import least_busy\n",
        "\n",
        "# Chargement du compte IBM Quantum Experience (si ce n'est pas déjà fait)\n",
        "# IBMQ.save_account('YOUR_API_TOKEN')\n",
        "\n",
        "# Chargement du compte IBM Quantum Experience\n",
        "IBMQ.save_account('5685a1a317357e03d9561f14ca96d7c3eb58c01061852a2ecd09c3f03d30ea746afcdec445bc32bd8cc9688513ea39fc551491d312745e813d487d7f5c8c271f')\n",
        "\n",
        "\n"
      ]
    },
    {
      "cell_type": "markdown",
      "metadata": {
        "id": "gMFEWBh1g0-s"
      },
      "source": [
        "I configured and backed up my IBM Quantum Experience account before using it to access the IBM quantum device"
      ]
    },
    {
      "cell_type": "code",
      "execution_count": 31,
      "metadata": {
        "id": "AgHpU9XwEPQ1"
      },
      "outputs": [],
      "source": [
        "# Obtenir le fournisseur associé au compte\n",
        "# Optional: Specify it at service level. This becomes the default unless overwritten.\n",
        "\n",
        "from qiskit_ibm_provider import IBMProvider\n",
        "\n",
        "# Get all available providers (may be empty if you don't have a hub/group/project specified)\n",
        "provider = IBMQ.providers(hub='ibm-q', group='open', project='main')\n",
        "\n",
        "\n",
        "\n"
      ]
    },
    {
      "cell_type": "markdown",
      "metadata": {
        "id": "Ci4Qxpf8gZIj"
      },
      "source": [
        "I create an active IBM Quantum Experience account and set it up with my credentials before using this code. The hub, group, and project settings correspond to the organizational structure of your IBM Quantum Experience account. I replaced \"ibm-q\", \"open\" and \"main\" with the appropriate values based on my account configuration."
      ]
    },
    {
      "cell_type": "code",
      "execution_count": 32,
      "metadata": {
        "colab": {
          "base_uri": "https://localhost:8080/"
        },
        "id": "mEDBbEUTN3_V",
        "outputId": "53c0e1e1-b620-48b3-e278-468f47a79b45"
      },
      "outputs": [
        {
          "output_type": "stream",
          "name": "stdout",
          "text": [
            "least busy backend:  ibmq_lima\n"
          ]
        }
      ],
      "source": [
        "# Load our saved IBMQ accounts and get the least busy backend device with less than or equal to 5 qubits\n",
        "IBMQ.load_account()\n",
        "provider = IBMQ.get_provider(hub='ibm-q')\n",
        "backend = least_busy(provider.backends(filters=lambda x: x.configuration().n_qubits >= m and\n",
        "                                   not x.configuration().simulator and x.status().operational==True))\n",
        "print(\"least busy backend: \", backend)\n",
        "\n"
      ]
    },
    {
      "cell_type": "markdown",
      "metadata": {
        "id": "EsZrkZRNfVgL"
      },
      "source": [
        "The code helps you choose a backend that satisfies the specified conditions, ensuring that it has a sufficient number of qubits, is not a simulator, and is operational. This is useful when you want to find an appropriate backend for executing your quantum circuits based on your specific requirements."
      ]
    },
    {
      "cell_type": "markdown",
      "metadata": {
        "id": "Dy4ab784fF2j"
      },
      "source": [
        "The code helps you select an appropriate backend for executing your quantum circuits, considering the operational status and the current workload of the available backends."
      ]
    },
    {
      "cell_type": "code",
      "execution_count": null,
      "metadata": {
        "id": "nrWuuaemSeLd"
      },
      "outputs": [],
      "source": [
        "# Execute and monitor the job\n",
        "from qiskit.tools.monitor import job_monitor\n",
        "shots = 2025\n",
        "transpiled_simon_circuit = transpile(simon_circuit_2, backend, optimization_level=3)\n",
        "job = backend.run(transpiled_simon_circuit)\n",
        "job_monitor(job, interval=2)"
      ]
    },
    {
      "cell_type": "markdown",
      "metadata": {
        "id": "OFjgkaVEeyhC"
      },
      "source": [
        "Overall, this code executes the transpiled Simon's circuit on a backend, monitors the progress of the job, and provides real-time updates on the job's status. It's especially useful when working with remote quantum devices to keep track of the job execution progress."
      ]
    },
    {
      "cell_type": "code",
      "execution_count": null,
      "metadata": {
        "id": "1-4gRQcGV8ZE"
      },
      "outputs": [],
      "source": [
        "# Get results and plot counts\n",
        "device_counts = job.result().get_counts()\n",
        "plot_histogram(device_counts)"
      ]
    },
    {
      "cell_type": "markdown",
      "metadata": {
        "id": "2TtRutQneN27"
      },
      "source": [
        "Overall, this code is used to retrieve the measurement outcomes from the executed quantum job, create a histogram plot of those outcomes, and visualize the distribution of measurement results. The histogram helps you understand the probabilities of different measurement outcomes based on the quantum states that were generated during the execution of your quantum circuit."
      ]
    },
    {
      "cell_type": "code",
      "execution_count": null,
      "metadata": {
        "id": "s2sFXxRkZ2Z7"
      },
      "outputs": [],
      "source": [
        "# Calculate the dot product of the results\n",
        "def bdotz(c, z):\n",
        "    accum = 0\n",
        "    for i in range(len(c)):\n",
        "        accum += int(c[i]) * int(z[i])\n",
        "    return (accum % 2)\n",
        "\n",
        "print('c = ' + c)\n",
        "for z in device_counts:\n",
        "    print( '{}.{} = {} (mod 2) ({:.1f}%)'.format(c, z, bdotz(c,z), device_counts[z]*100/shots))"
      ]
    },
    {
      "cell_type": "markdown",
      "metadata": {
        "id": "-ci1-wydeg8W"
      },
      "source": [
        "This code calculates the dot product of the measurement outcomes and the input string c, then prints the results along with the percentage of occurrences of each measurement outcome. It helps you analyze the measurement results in the context of Simon's algorithm to determine the hidden string s."
      ]
    },
    {
      "cell_type": "code",
      "execution_count": null,
      "metadata": {
        "id": "NY5xf_wr4NBz",
        "colab": {
          "base_uri": "https://localhost:8080/"
        },
        "outputId": "5d1f28e1-a32c-4d82-f9f8-877dbef9b9af"
      },
      "outputs": [
        {
          "output_type": "stream",
          "name": "stdout",
          "text": [
            "     ┌───┐┌───┐   \n",
            "q_0: ┤ H ├┤ H ├───\n",
            "     ├───┤├───┤   \n",
            "q_1: ┤ H ├┤ H ├───\n",
            "     ├───┤├───┤   \n",
            "q_2: ┤ H ├┤ H ├───\n",
            "     └┬─┬┘└───┘   \n",
            "q_3: ─┤M├─────────\n",
            "      └╥┘  ┌─┐    \n",
            "q_4: ──╫───┤M├────\n",
            "       ║   └╥┘ ┌─┐\n",
            "q_5: ──╫────╫──┤M├\n",
            "       ║    ║  └╥┘\n",
            "c: 3/══╩════╩═══╩═\n",
            "       0    1   2 \n",
            "Simulator Results: {'000': 1024}\n"
          ]
        },
        {
          "output_type": "stream",
          "name": "stderr",
          "text": [
            "ibmqfactory.load_account:WARNING:2023-09-01 19:40:22,782: Credentials are already in use. The existing account in the session will be replaced.\n"
          ]
        }
      ],
      "source": [
        "#5. Problems\n",
        "#Implement a general Simon oracle using Qiskit.\n",
        "#Test your general Simon oracle with the secret bit string, on simulator and device. Do the results meet your expectations? Explain why.\n",
        "\n",
        "from qiskit import QuantumCircuit, Aer, transpile, assemble\n",
        "from qiskit.visualization import plot_histogram\n",
        "from qiskit.providers.ibmq import least_busy\n",
        "from qiskit import IBMQ\n",
        "\n",
        "# Create a general Simon oracle function\n",
        "def simon_oracle_general(secret_string, n):\n",
        "    oracle_circuit = QuantumCircuit(n * 2, n)\n",
        "\n",
        "    # Apply a controlled-X gate controlled by the input qubit\n",
        "    for i, bit in enumerate(secret_string):\n",
        "        if bit == '1':\n",
        "            oracle_circuit.cx(i, n + i)\n",
        "\n",
        "    return oracle_circuit\n",
        "\n",
        "# Define the secret bit string\n",
        "secret_string = '110'\n",
        "\n",
        "# Create the Simon quantum circuit\n",
        "n = len(secret_string)\n",
        "simon_circuit = QuantumCircuit(n * 2, n)\n",
        "\n",
        "# Apply Hadamard gates to the input register\n",
        "simon_circuit.h(range(n))\n",
        "\n",
        "\n",
        "# Apply Hadamard gates to the input register after the oracle\n",
        "simon_circuit.h(range(n))\n",
        "\n",
        "# Measure the output bits\n",
        "simon_circuit.measure(range(n, n * 2), range(n))\n",
        "\n",
        "# Display the circuit\n",
        "print(simon_circuit)\n",
        "\n",
        "# Execute the circuit on a simulator\n",
        "simulator = Aer.get_backend('aer_simulator')\n",
        "results_simulator = simulator.run(simon_circuit).result()\n",
        "counts_simulator = results_simulator.get_counts()\n",
        "print(\"Simulator Results:\", counts_simulator)\n",
        "\n",
        "# Load IBM Quantum Experience account\n",
        "IBMQ.load_account()\n",
        "\n",
        "# Get the provider\n",
        "provider = IBMQ.get_provider(hub='ibm-q', group='open', project='main')\n",
        "\n",
        "# Select a backend\n",
        "backend = least_busy(provider.backends(filters=lambda x: x.configuration().n_qubits >= n * 2 and\n",
        "                                       not x.configuration().simulator and x.status().operational==True))\n",
        "\n",
        "# Transpile the circuit to map onto the backend\n",
        "transpiled_circuit = transpile(simon_circuit, backend=backend)\n",
        "\n",
        "# Execute the circuit on the device\n",
        "job = backend.run(transpiled_circuit, shots=1024)\n",
        "results_device = job.result()\n",
        "counts_device = results_device.get_counts()\n",
        "print(\"Device Results:\", counts_device)\n",
        "\n",
        "# Compare the results\n",
        "print(\"Expected Results:\", {'00' + secret_string: 0.5, '11' + secret_string: 0.5})\n"
      ]
    },
    {
      "cell_type": "markdown",
      "metadata": {
        "id": "sddX9IvZ7O2z"
      },
      "source": [
        "This code creates a general Simon oracle based on the secret bit string, applies it to the Simon quantum circuit, runs the circuit on both a simulator and a real quantum device, and compares the results with the expected outcomes. The results should match expectations if the oracle and circuit are implemented correctly."
      ]
    },
    {
      "cell_type": "code",
      "source": [
        "#6. Références"
      ],
      "metadata": {
        "id": "1-8dcZpuSbon"
      },
      "execution_count": null,
      "outputs": []
    },
    {
      "cell_type": "markdown",
      "source": [
        "1-https://learn.qiskit.org/course/ch-algorithms/simons-algorithm#device\n",
        "\n"
      ],
      "metadata": {
        "id": "d-442YVPSiT9"
      }
    }
  ],
  "metadata": {
    "colab": {
      "provenance": []
    },
    "kernelspec": {
      "display_name": "Python 3",
      "name": "python3"
    },
    "language_info": {
      "name": "python"
    }
  },
  "nbformat": 4,
  "nbformat_minor": 0
}